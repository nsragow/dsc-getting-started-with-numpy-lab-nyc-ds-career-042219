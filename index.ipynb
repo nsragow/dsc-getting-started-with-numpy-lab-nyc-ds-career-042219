{
 "cells": [
  {
   "cell_type": "markdown",
   "metadata": {},
   "source": [
    "# Getting Started with NumPy - Lab"
   ]
  },
  {
   "cell_type": "markdown",
   "metadata": {},
   "source": [
    "## Introduction"
   ]
  },
  {
   "cell_type": "markdown",
   "metadata": {},
   "source": [
    "Now that we have introduced NumPy, let's put it to practice. In this lab, we are going to be creating arrays, performing operations on them, and returning new array all using the NumPy library. Let's get started!"
   ]
  },
  {
   "cell_type": "markdown",
   "metadata": {},
   "source": [
    "## Objectives\n",
    "\n",
    "You will be able to: \n",
    "\n",
    "* Understand how to initialize NumPy arrays from nested Python lists, and access elements using square brackets\n",
    "* Understand the shape attribute on NumPy arrays\n",
    "* Understand how to create arrays from scratch including np.zeros, np.ones, np.full\n",
    "* Learn to perform scalar and vector math  "
   ]
  },
  {
   "cell_type": "markdown",
   "metadata": {},
   "source": [
    "## Import NumPy under the standard alias"
   ]
  },
  {
   "cell_type": "code",
   "execution_count": 1,
   "metadata": {},
   "outputs": [],
   "source": [
    "#Your code here\n",
    "import numpy as np"
   ]
  },
  {
   "cell_type": "markdown",
   "metadata": {},
   "source": [
    "## Generating Some Mock Data"
   ]
  },
  {
   "cell_type": "markdown",
   "metadata": {},
   "source": [
    "Create a NumPy Array for each of the following:\n",
    "    1. Using a range\n",
    "    2. Using a Python List\n",
    "    \n",
    "Below, create a list in Python that has 5 elements (i.e. [0,1,2,3,4]) and assign it to the variable `py_list`. \n",
    "\n",
    "Next, do the same, but instead of a list, create a range with 5 elements and assign it to the variable, `py_range`.\n",
    "\n",
    "Finally, use the list and range to create NumPy arrays and assign the array from list to the variable `array_from_list`, and the array from the range to the variable `array_from_range`."
   ]
  },
  {
   "cell_type": "code",
   "execution_count": 11,
   "metadata": {},
   "outputs": [
    {
     "name": "stdout",
     "output_type": "stream",
     "text": [
      "[0, 1, 2, 3, 4]\n",
      "range(0, 5)\n",
      "[0 1 2 3 4]\n",
      "[0 1 2 3 4]\n"
     ]
    }
   ],
   "source": [
    "#Your code here\n",
    "py_list = list(range(5))\n",
    "py_range = range(5)\n",
    "array_from_list = np.array(py_list)\n",
    "array_from_range = np.array(py_range)\n",
    "print(py_list)\n",
    "print(py_range)\n",
    "print(array_from_list)\n",
    "print(array_from_range)"
   ]
  },
  {
   "cell_type": "markdown",
   "metadata": {},
   "source": [
    "Next, we have a list of heights and weights and we'd like to use them to create a collection of BMIs. However, they are both in inches and pounds (imperial system), respectively. \n",
    "\n",
    "Let's use what we know to create NumPy arrays with the metric equivalent values, (height in meters & weight in kg).\n",
    "\n",
    "> **Remember:** *NumPy can make these calculations a lot easier and with less code than a list!*"
   ]
  },
  {
   "cell_type": "markdown",
   "metadata": {},
   "source": [
    "> 1.0 inch = 0.0254 meters\n",
    "\n",
    "> 2.2046 lbs = 1 kilogram"
   ]
  },
  {
   "cell_type": "code",
   "execution_count": 14,
   "metadata": {},
   "outputs": [],
   "source": [
    "# use the conversion rate for turning height in inches to meters\n",
    "list_height_inches = [65, 68, 73, 75, 78]\n",
    "meter_height = np.array(list_height_inches)*.0254\n",
    "\n",
    "#Your code here"
   ]
  },
  {
   "cell_type": "code",
   "execution_count": 15,
   "metadata": {},
   "outputs": [],
   "source": [
    "# use the conversion rate for turning weight in pounds to kilograms\n",
    "list_weight_pounds = [150, 140, 220, 205, 265]\n",
    "kilogram_weight = np.array(list_weight_pounds)/2.2046\n",
    "\n",
    "#your code here"
   ]
  },
  {
   "cell_type": "markdown",
   "metadata": {},
   "source": [
    "The metric formula for calculating BMI is as follows:\n",
    "\n",
    "> BMI = weight (kg) ÷ height^2 (m^2)\n",
    "\n",
    "So, to get BMI we divide weight by the squared value of height. For example, if i weighed 130kg and was 1.9 meters tall, the calculation would look like:\n",
    "\n",
    "> BMI = 130 / (1.9*1.9)\n",
    "\n",
    "Use the BMI calculation to create a NumPy array of BMIs"
   ]
  },
  {
   "cell_type": "code",
   "execution_count": 17,
   "metadata": {},
   "outputs": [
    {
     "data": {
      "text/plain": [
       "array([0.66666667, 0.66666667, 0.66666667, 0.66666667, 0.66666667,\n",
       "       0.66666667, 0.66666667, 0.66666667, 0.66666667, 0.66666667])"
      ]
     },
     "execution_count": 17,
     "metadata": {},
     "output_type": "execute_result"
    }
   ],
   "source": [
    "#Your code here\n",
    "\n",
    "BMI = kilogram_weight / meter_height**2\n",
    "BMI\n",
    "np.array([2]*10)/np.array([3]*10)"
   ]
  },
  {
   "cell_type": "markdown",
   "metadata": {},
   "source": [
    "## Create an identity vector using `np.ones()`"
   ]
  },
  {
   "cell_type": "code",
   "execution_count": 20,
   "metadata": {},
   "outputs": [],
   "source": [
    "#Your code here\n",
    "ten_by_ten_identity = np.ones([10,10])"
   ]
  },
  {
   "cell_type": "markdown",
   "metadata": {},
   "source": [
    "## Multiply the BMI_array by your identity vector"
   ]
  },
  {
   "cell_type": "code",
   "execution_count": 22,
   "metadata": {},
   "outputs": [
    {
     "data": {
      "text/plain": [
       "array([24.9613063 , 21.28692715, 29.02550097, 25.62324316, 30.62382485])"
      ]
     },
     "execution_count": 22,
     "metadata": {},
     "output_type": "execute_result"
    }
   ],
   "source": [
    "#Your code here\n",
    "BMI*np.ones([len(BMI)])"
   ]
  },
  {
   "cell_type": "markdown",
   "metadata": {},
   "source": [
    "## Level Up: Using NumPy to Parse a File\n",
    "The pandas library that we've been using is built on top of NumPy; all columns/series in a Pandas DataFrame are built using NumPy arrays. To get a better idea of a how a built in method like pd.read_csv() works, we'll try and recreate that here!"
   ]
  },
  {
   "cell_type": "code",
   "execution_count": 29,
   "metadata": {},
   "outputs": [
    {
     "name": "stdout",
     "output_type": "stream",
     "text": [
      "The file has 21 lines.\n",
      "[[  1.     2.     3.     4.     5.     6.     7.     8.     9.    10.\n",
      "   11.    12.    13.    14.    15.    16.    17.    18.    19.    20.  ]\n",
      " [105.   115.   116.   117.   112.   121.   121.   110.   110.   114.\n",
      "  114.   115.   114.   106.   125.   114.   106.   113.   110.   122.  ]\n",
      " [ 47.    49.    49.    50.    51.    48.    49.    47.    49.    48.\n",
      "   47.    49.    50.    45.    52.    46.    46.    46.    48.    56.  ]\n",
      " [ 85.4   94.2   95.3   94.7   89.4   99.5   99.8   90.9   89.2   92.7\n",
      "   94.4   94.1   91.6   87.1  101.3   94.5   87.    94.5   90.5   95.7 ]\n",
      " [  1.75   2.1    1.98   2.01   1.89   2.25   2.25   1.9    1.83   2.07\n",
      "    2.07   1.98   2.05   1.92   2.19   1.98   1.87   1.9    1.88   2.09]\n",
      " [  5.1    3.8    8.2    5.8    7.     9.3    2.5    6.2    7.1    5.6\n",
      "    5.3    5.6   10.2    5.6   10.     7.4    3.6    4.3    9.     7.  ]\n",
      " [ 63.    70.    72.    73.    72.    71.    69.    66.    69.    64.\n",
      "   74.    71.    68.    67.    76.    69.    62.    70.    71.    75.  ]\n",
      " [ 33.    14.    10.    99.    95.    10.    42.     8.    62.    35.\n",
      "   90.    21.    47.    80.    98.    95.    18.    12.    99.    99.  ]]\n",
      "['Pt\\tBP\\tAge\\tWeight\\tBSA\\tDur\\tPulse\\tStress\\n', '1\\t105\\t47\\t85.4\\t1.75\\t5.1\\t63\\t33\\n', '2\\t115\\t49\\t94.2\\t2.10\\t3.8\\t70\\t14\\n', '3\\t116\\t49\\t95.3\\t1.98\\t8.2\\t72\\t10\\n', '4\\t117\\t50\\t94.7\\t2.01\\t5.8\\t73\\t99\\n', '5\\t112\\t51\\t89.4\\t1.89\\t7.0\\t72\\t95\\n', '6\\t121\\t48\\t99.5\\t2.25\\t9.3\\t71\\t10\\n', '7\\t121\\t49\\t99.8\\t2.25\\t2.5\\t69\\t42\\n', '8\\t110\\t47\\t90.9\\t1.90\\t6.2\\t66\\t8\\n', '9\\t110\\t49\\t89.2\\t1.83\\t7.1\\t69\\t62\\n', '10\\t114\\t48\\t92.7\\t2.07\\t5.6\\t64\\t35\\n', '11\\t114\\t47\\t94.4\\t2.07\\t5.3\\t74\\t90\\n', '12\\t115\\t49\\t94.1\\t1.98\\t5.6\\t71\\t21\\n', '13\\t114\\t50\\t91.6\\t2.05\\t10.2\\t68\\t47\\n', '14\\t106\\t45\\t87.1\\t1.92\\t5.6\\t67\\t80\\n', '15\\t125\\t52\\t101.3\\t2.19\\t10.0\\t76\\t98\\n', '16\\t114\\t46\\t94.5\\t1.98\\t7.4\\t69\\t95\\n', '17\\t106\\t46\\t87.0\\t1.87\\t3.6\\t62\\t18\\n', '18\\t113\\t46\\t94.5\\t1.90\\t4.3\\t70\\t12\\n', '19\\t110\\t48\\t90.5\\t1.88\\t9.0\\t71\\t99\\n', '20\\t122\\t56\\t95.7\\t2.09\\t7.0\\t75\\t99\\n']\n"
     ]
    }
   ],
   "source": [
    "#Open a text file (csv files are just plaintext separated by commas)\n",
    "f = open('bp.txt')\n",
    "n_rows = len(f.readlines())\n",
    "print('The file has {} lines.'.format(n_rows)) #Print number of lines in the file\n",
    "f = open('bp.txt') #After using readlines, we must reopen the file\n",
    "n_cols = (len(f.readline().split('\\t'))) #The file has values separated by tabs; we read the first line and check it's length.\n",
    "\n",
    "f = open('bp.txt')\n",
    "\n",
    "#Your code here\n",
    "#Pseudocode outline below\n",
    "#1) Create a matrix of zeros that is the same size of the file\n",
    "f.readline()\n",
    "ones_matrix = np.ones([n_cols,n_rows-1])\n",
    "for row_index in range(n_rows-1):\n",
    "    row = f.readline().split('\\t')\n",
    "    for col_index in range(n_cols):\n",
    "        ones_matrix[col_index,row_index] =row[col_index] \n",
    "#2) Iterate through the file: \"for line in f:\" Hint: using enumerate will also be required\n",
    "    #3) Update each row of the matrix with the new stream of data\n",
    "    #Hint: skip the first row (it's just column names, not the data.)\n",
    "#4) Preview your results; you should now have a NumPy matrix with the data from the file\n",
    "print(ones_matrix)\n",
    "print(open(\"bp.txt\").readlines())"
   ]
  },
  {
   "cell_type": "markdown",
   "metadata": {},
   "source": [
    "## Summary"
   ]
  },
  {
   "cell_type": "markdown",
   "metadata": {},
   "source": [
    "In this lab, we practiced creating NumPy arrays from both lists and ranges. We then practiced performing math operations like converting imperial measurements to metric measurements on each element of a NumPy array to create new arrays with new values. Finally, we used both of our new NumPy arrays to operate on each other and create new arrays containing the BMIs from our arrays containing heights and weights."
   ]
  }
 ],
 "metadata": {
  "kernelspec": {
   "display_name": "Python 3",
   "language": "python",
   "name": "python3"
  },
  "language_info": {
   "codemirror_mode": {
    "name": "ipython",
    "version": 3
   },
   "file_extension": ".py",
   "mimetype": "text/x-python",
   "name": "python",
   "nbconvert_exporter": "python",
   "pygments_lexer": "ipython3",
   "version": "3.6.6"
  }
 },
 "nbformat": 4,
 "nbformat_minor": 2
}
